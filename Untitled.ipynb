{
 "cells": [
  {
   "cell_type": "code",
   "execution_count": 2,
   "metadata": {},
   "outputs": [],
   "source": [
    "import numpy as np\n",
    "%matplotlib inline\n",
    "import matplotlib.pyplot as plt"
   ]
  },
  {
   "cell_type": "code",
   "execution_count": 15,
   "metadata": {},
   "outputs": [],
   "source": [
    "class cascade():\n",
    "    \n",
    "    def __init__(self,):\n",
    "        self.RT = {\n",
    "            'Uk0':\n",
    "            'Ik0':\n",
    "            'Ib0':\n",
    "            'Ub0':\n",
    "            'dIb':\n",
    "            'dUb':\n",
    "            'dIk':\n",
    "            'dUk':\n",
    "        }\n",
    "\n",
    "class amplifier():\n",
    "    \n",
    "    def __init__(self, Rs, Ku, Rnag, Tmax, Uout, tu, tf, delta):\n",
    "        self.Rs = Rs\n",
    "        self.Ku = Ku\n",
    "        self.Rnag = Rnag      \n",
    "        self.Tmax = Tmax\n",
    "        self.Uout = Uout\n",
    "        self.tu = tu\n",
    "        self.tf = tf\n",
    "        self.delta = delta\n",
    "        \n",
    "    def pred_rassch(self):\n",
    "        self.Pout = (self.Uout**2)/self.Rnag\n",
    "        self.Ep = 3*self.Uout\n",
    "        self.Iout = self.Uout/self.Rnag\n",
    "        \n",
    "        self.Kkpu = self.Ku * 1.7/0.8\n",
    "        self.N = np.log10(self.Kkpu)\n",
    "        print('рассчетное количество каскадов',self.N)\n",
    "        self.N = np.ceil(self.N)\n",
    "        print('округлим до большего', self.N)\n",
    "        \n",
    "        self.Ki = self.Kkpu**(1/self.N)\n",
    "        self.tfi = self.tf/self.N\n",
    "        self.delta_i = self.delta/self.N\n",
    "        self.fgr = 2/self.tfi\n",
    "        "
   ]
  },
  {
   "cell_type": "code",
   "execution_count": 17,
   "metadata": {},
   "outputs": [
    {
     "name": "stdout",
     "output_type": "stream",
     "text": [
      "рассчетное количество каскадов 3.6316339848634587\n",
      "округлим до большего 4.0\n"
     ]
    }
   ],
   "source": [
    "y_amp = amplifier(\n",
    "    Rs=75,\n",
    "    Ku=2015,\n",
    "    Rnag=744,\n",
    "    Tmax=69.15, \n",
    "    Uout=4.7,\n",
    "    tu=34.8*10**-6,\n",
    "    tf=7.4*10**-6,\n",
    "    delta=9.4)\n",
    "y_amp.pred_rassch()"
   ]
  },
  {
   "cell_type": "code",
   "execution_count": null,
   "metadata": {},
   "outputs": [],
   "source": []
  }
 ],
 "metadata": {
  "kernelspec": {
   "display_name": "Python 3",
   "language": "python",
   "name": "python3"
  },
  "language_info": {
   "codemirror_mode": {
    "name": "ipython",
    "version": 3
   },
   "file_extension": ".py",
   "mimetype": "text/x-python",
   "name": "python",
   "nbconvert_exporter": "python",
   "pygments_lexer": "ipython3",
   "version": "3.6.9"
  }
 },
 "nbformat": 4,
 "nbformat_minor": 4
}
