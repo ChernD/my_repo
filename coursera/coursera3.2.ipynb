{
 "cells": [
  {
   "cell_type": "code",
   "execution_count": 2,
   "metadata": {},
   "outputs": [],
   "source": [
    "import pandas as pd\n",
    "from sklearn import datasets\n",
    "from sklearn.svm import SVC\n",
    "from sklearn.feature_extraction.text import TfidfVectorizer\n",
    "import numpy as np\n",
    "from sklearn.model_selection import KFold\n",
    "from sklearn.model_selection import GridSearchCV "
   ]
  },
  {
   "cell_type": "code",
   "execution_count": 3,
   "metadata": {},
   "outputs": [],
   "source": [
    "newsgroups = datasets.fetch_20newsgroups(\n",
    "                    subset='all', \n",
    "                    categories=['alt.atheism', 'sci.space']\n",
    "             )"
   ]
  },
  {
   "cell_type": "code",
   "execution_count": 4,
   "metadata": {},
   "outputs": [],
   "source": [
    "X = newsgroups.data\n",
    "y = newsgroups.target"
   ]
  },
  {
   "cell_type": "code",
   "execution_count": 34,
   "metadata": {},
   "outputs": [],
   "source": [
    "model1 = TfidfVectorizer()\n",
    "nX = model1.fit_transform(X)\n"
   ]
  },
  {
   "cell_type": "code",
   "execution_count": 6,
   "metadata": {},
   "outputs": [
    {
     "data": {
      "text/plain": [
       "<1786x28382 sparse matrix of type '<class 'numpy.float64'>'\n",
       "\twith 303138 stored elements in Compressed Sparse Row format>"
      ]
     },
     "execution_count": 6,
     "metadata": {},
     "output_type": "execute_result"
    }
   ],
   "source": [
    "nX"
   ]
  },
  {
   "cell_type": "code",
   "execution_count": 60,
   "metadata": {},
   "outputs": [
    {
     "data": {
      "text/plain": [
       "GridSearchCV(cv=KFold(n_splits=5, random_state=241, shuffle=True),\n",
       "             error_score=nan,\n",
       "             estimator=SVC(C=1.0, break_ties=False, cache_size=200,\n",
       "                           class_weight=None, coef0=0.0,\n",
       "                           decision_function_shape='ovr', degree=3,\n",
       "                           gamma='scale', kernel='linear', max_iter=-1,\n",
       "                           probability=False, random_state=241, shrinking=True,\n",
       "                           tol=0.001, verbose=False),\n",
       "             iid='deprecated', n_jobs=-1,\n",
       "             param_grid={'C': array([1.e-05, 1.e-04, 1.e-03, 1.e-02, 1.e-01, 1.e+00, 1.e+01, 1.e+02,\n",
       "       1.e+03, 1.e+04, 1.e+05])},\n",
       "             pre_dispatch='2*n_jobs', refit=True, return_train_score=False,\n",
       "             scoring='accuracy', verbose=0)"
      ]
     },
     "execution_count": 60,
     "metadata": {},
     "output_type": "execute_result"
    }
   ],
   "source": [
    "grid = {'C': np.power(10.0, np.arange(-5, 6))}\n",
    "cv = KFold(n_splits=5, shuffle=True, random_state=241)\n",
    "clf = SVC(kernel='linear', random_state=241)\n",
    "gs = GridSearchCV(clf, grid, scoring='accuracy', cv=cv, n_jobs=-1) # n_jobs=-1 для распараллеливания\n",
    "gs.fit(nX, y)"
   ]
  },
  {
   "cell_type": "code",
   "execution_count": 61,
   "metadata": {},
   "outputs": [
    {
     "name": "stdout",
     "output_type": "stream",
     "text": [
      "{'C': 1.0}\n"
     ]
    }
   ],
   "source": [
    "c13 = gs.best_params_\n",
    "print(c13)"
   ]
  },
  {
   "cell_type": "code",
   "execution_count": 62,
   "metadata": {},
   "outputs": [
    {
     "data": {
      "text/plain": [
       "{'mean_fit_time': array([6.32975941, 6.6578506 , 6.91651673, 6.73597493, 5.8180963 ,\n",
       "        3.58234234, 3.34159608, 3.28659286, 3.45459957, 3.48138885,\n",
       "        3.36555591]),\n",
       " 'std_fit_time': array([0.14135879, 0.25672548, 0.27345702, 0.20215578, 0.04613574,\n",
       "        0.05663806, 0.09196929, 0.04962749, 0.11545173, 0.06260454,\n",
       "        0.07955879]),\n",
       " 'mean_score_time': array([1.5949326 , 1.58306146, 1.73040872, 1.69839907, 1.41439753,\n",
       "        0.80421519, 0.77462344, 0.76837811, 0.85303292, 0.82955656,\n",
       "        0.74407191]),\n",
       " 'std_score_time': array([0.01989895, 0.024694  , 0.02311163, 0.02095223, 0.03418522,\n",
       "        0.0272466 , 0.01719164, 0.01573867, 0.05398833, 0.03282039,\n",
       "        0.07792597]),\n",
       " 'param_C': masked_array(data=[1e-05, 0.0001, 0.001, 0.01, 0.1, 1.0, 10.0, 100.0,\n",
       "                    1000.0, 10000.0, 100000.0],\n",
       "              mask=[False, False, False, False, False, False, False, False,\n",
       "                    False, False, False],\n",
       "        fill_value='?',\n",
       "             dtype=object),\n",
       " 'params': [{'C': 1e-05},\n",
       "  {'C': 0.0001},\n",
       "  {'C': 0.001},\n",
       "  {'C': 0.01},\n",
       "  {'C': 0.1},\n",
       "  {'C': 1.0},\n",
       "  {'C': 10.0},\n",
       "  {'C': 100.0},\n",
       "  {'C': 1000.0},\n",
       "  {'C': 10000.0},\n",
       "  {'C': 100000.0}],\n",
       " 'split0_test_score': array([0.54469274, 0.54469274, 0.54469274, 0.54469274, 0.95810056,\n",
       "        0.99441341, 0.99441341, 0.99441341, 0.99441341, 0.99441341,\n",
       "        0.99441341]),\n",
       " 'split1_test_score': array([0.57983193, 0.57983193, 0.57983193, 0.57983193, 0.94957983,\n",
       "        0.9859944 , 0.9859944 , 0.9859944 , 0.9859944 , 0.9859944 ,\n",
       "        0.9859944 ]),\n",
       " 'split2_test_score': array([0.57142857, 0.57142857, 0.57142857, 0.57142857, 0.95798319,\n",
       "        1.        , 1.        , 1.        , 1.        , 1.        ,\n",
       "        1.        ]),\n",
       " 'split3_test_score': array([0.50140056, 0.50140056, 0.50140056, 0.50140056, 0.93557423,\n",
       "        0.99159664, 0.99159664, 0.99159664, 0.99159664, 0.99159664,\n",
       "        0.99159664]),\n",
       " 'split4_test_score': array([0.56582633, 0.56582633, 0.56582633, 0.56582633, 0.94957983,\n",
       "        0.99439776, 0.99439776, 0.99439776, 0.99439776, 0.99439776,\n",
       "        0.99439776]),\n",
       " 'mean_test_score': array([0.55263603, 0.55263603, 0.55263603, 0.55263603, 0.95016353,\n",
       "        0.99328044, 0.99328044, 0.99328044, 0.99328044, 0.99328044,\n",
       "        0.99328044]),\n",
       " 'std_test_score': array([0.02812447, 0.02812447, 0.02812447, 0.02812447, 0.00821794,\n",
       "        0.00455206, 0.00455206, 0.00455206, 0.00455206, 0.00455206,\n",
       "        0.00455206]),\n",
       " 'rank_test_score': array([8, 8, 8, 8, 7, 1, 1, 1, 1, 1, 1])}"
      ]
     },
     "execution_count": 62,
     "metadata": {},
     "output_type": "execute_result"
    }
   ],
   "source": [
    "gs.cv_results_"
   ]
  },
  {
   "cell_type": "code",
   "execution_count": 63,
   "metadata": {},
   "outputs": [
    {
     "data": {
      "text/plain": [
       "SVC(C=1.0, break_ties=False, cache_size=200, class_weight=None, coef0=0.0,\n",
       "    decision_function_shape='ovr', degree=3, gamma='scale', kernel='linear',\n",
       "    max_iter=-1, probability=False, random_state=241, shrinking=True, tol=0.001,\n",
       "    verbose=False)"
      ]
     },
     "execution_count": 63,
     "metadata": {},
     "output_type": "execute_result"
    }
   ],
   "source": [
    "model = SVC(C=1.0, kernel='linear', random_state=241)\n",
    "model.fit(nX, y)"
   ]
  },
  {
   "cell_type": "code",
   "execution_count": 64,
   "metadata": {},
   "outputs": [],
   "source": [
    "coefs = abs(model.coef_.todense().A1)\n",
    "coefs = np.argsort(coefs)"
   ]
  },
  {
   "cell_type": "code",
   "execution_count": 69,
   "metadata": {},
   "outputs": [
    {
     "name": "stdout",
     "output_type": "stream",
     "text": [
      "<class 'numpy.ndarray'>\n"
     ]
    },
    {
     "data": {
      "text/plain": [
       "array([24019, 12871,  5088,  5093, 17802, 23673, 21850,  5776, 15606,\n",
       "       22936], dtype=int64)"
      ]
     },
     "execution_count": 69,
     "metadata": {},
     "output_type": "execute_result"
    }
   ],
   "source": [
    "print(type(coefs))\n",
    "#print(np.dtype(coefs))\n",
    "#coefs = coefs.astype(int)\n",
    "coefs[:-11:-1]"
   ]
  },
  {
   "cell_type": "code",
   "execution_count": 72,
   "metadata": {},
   "outputs": [],
   "source": [
    "pop_words = []\n",
    "feature_mapping = model1.get_feature_names()\n",
    "for coef in coefs[:-11:-1]:\n",
    "    pop_words.append(feature_mapping[coef])"
   ]
  },
  {
   "cell_type": "code",
   "execution_count": 74,
   "metadata": {},
   "outputs": [
    {
     "name": "stdout",
     "output_type": "stream",
     "text": [
      "['atheism', 'atheists', 'bible', 'god', 'keith', 'moon', 'religion', 'sci', 'sky', 'space']\n"
     ]
    }
   ],
   "source": [
    "pop_words.sort()\n",
    "print(pop_words)"
   ]
  }
 ],
 "metadata": {
  "kernelspec": {
   "display_name": "Python 3",
   "language": "python",
   "name": "python3"
  },
  "language_info": {
   "codemirror_mode": {
    "name": "ipython",
    "version": 3
   },
   "file_extension": ".py",
   "mimetype": "text/x-python",
   "name": "python",
   "nbconvert_exporter": "python",
   "pygments_lexer": "ipython3",
   "version": "3.7.6"
  }
 },
 "nbformat": 4,
 "nbformat_minor": 4
}
