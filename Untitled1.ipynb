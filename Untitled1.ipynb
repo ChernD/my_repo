{
 "cells": [
  {
   "cell_type": "code",
   "execution_count": 1,
   "metadata": {},
   "outputs": [],
   "source": [
    "with open('urls.txt') as file:\n",
    "    lst1 = file.read().splitlines()"
   ]
  },
  {
   "cell_type": "code",
   "execution_count": 2,
   "metadata": {},
   "outputs": [],
   "source": [
    "for i in range(len(lst1)):\n",
    "    #lst1[i] = lst1[i][1::]\n",
    "    lst1[i] = lst1[i].split(\"/\")[1]"
   ]
  },
  {
   "cell_type": "code",
   "execution_count": 3,
   "metadata": {},
   "outputs": [
    {
     "name": "stdout",
     "output_type": "stream",
     "text": [
      "['', 'starlife', 'world', 'latest', 'incidents', 'politics', 'business', 'moscow_city', 'head', '?updated=top', 'politics', 'world', 'science', 'video', 'world', 'science', 'sport', 'middleeast', 'economics', 'politics', 'travel', 'politics', 'video', 'starlife', 'health', 'science', 'cis', 'incidents', 'politics', 'world', 'politics', 'world', 'politics', 'middleeast', 'sport', 'crazy-world', 'crazy-world', 'incidents', 'video', 'auto', 'health', 'scitech', 'business', 'video', 'lifestyle', 'head', 'latest', 'head', 'cis', 'video', 'video', 'incidents', 'video', 'business', 'articles', 'science', 'world', 'science', 'politics', 'cis', 'starlife', 'finances', 'starlife', 'starlife', 'starlife', 'politics', 'articles', 'articles', 'starlife', 'starlife', 'business', 'world', 'starlife', 'europe', 'middleeast', 'video', 'articles', 'business', 'politics', 'kinomusic', 'starlife', 'lifestyle', 'articles', 'politics', 'economics', 'incidents', 'starlife', 'sport', 'articles', 'video', 'world', 'articles', 'starlife', 'economics', 'starlife', 'cis', 'video', 'science', 'incidents', 'world']\n"
     ]
    }
   ],
   "source": [
    "print(lst1)"
   ]
  },
  {
   "cell_type": "code",
   "execution_count": 9,
   "metadata": {},
   "outputs": [
    {
     "name": "stdout",
     "output_type": "stream",
     "text": [
      "{'politics', 'video', 'head', 'world', '?updated=top', 'business', 'starlife', 'incidents', 'latest', 'kinomusic', 'cis', 'finances', 'auto', 'crazy-world', 'science', 'scitech', 'articles', 'lifestyle', 'travel', 'moscow_city', 'middleeast', 'health', 'economics', 'europe', 'sport'}\n"
     ]
    }
   ],
   "source": [
    "set_lst1 = set(lst1[1::])\n",
    "print(set_lst1)"
   ]
  },
  {
   "cell_type": "code",
   "execution_count": 12,
   "metadata": {},
   "outputs": [
    {
     "ename": "ValueError",
     "evalue": "dictionary update sequence element #0 has length 8; 2 is required",
     "output_type": "error",
     "traceback": [
      "\u001b[1;31m---------------------------------------------------------------------------\u001b[0m",
      "\u001b[1;31mValueError\u001b[0m                                Traceback (most recent call last)",
      "\u001b[1;32m<ipython-input-12-845ee45c6418>\u001b[0m in \u001b[0;36m<module>\u001b[1;34m\u001b[0m\n\u001b[0;32m     10\u001b[0m \u001b[1;33m\u001b[0m\u001b[0m\n\u001b[0;32m     11\u001b[0m \u001b[1;32mfor\u001b[0m \u001b[0mnames\u001b[0m \u001b[1;32min\u001b[0m \u001b[0mset_lst1\u001b[0m\u001b[1;33m:\u001b[0m\u001b[1;33m\u001b[0m\u001b[1;33m\u001b[0m\u001b[0m\n\u001b[1;32m---> 12\u001b[1;33m     \u001b[0mlist2\u001b[0m\u001b[1;33m.\u001b[0m\u001b[0mupdate\u001b[0m\u001b[1;33m(\u001b[0m\u001b[0mhuy\u001b[0m\u001b[1;33m(\u001b[0m\u001b[0mlst1\u001b[0m\u001b[1;33m,\u001b[0m \u001b[0mnames\u001b[0m\u001b[1;33m)\u001b[0m\u001b[1;33m)\u001b[0m\u001b[1;33m\u001b[0m\u001b[1;33m\u001b[0m\u001b[0m\n\u001b[0m\u001b[0;32m     13\u001b[0m \u001b[1;33m\u001b[0m\u001b[0m\n\u001b[0;32m     14\u001b[0m \u001b[0mprint\u001b[0m\u001b[1;33m(\u001b[0m\u001b[0mlist2\u001b[0m\u001b[1;33m)\u001b[0m\u001b[1;33m\u001b[0m\u001b[1;33m\u001b[0m\u001b[0m\n",
      "\u001b[1;31mValueError\u001b[0m: dictionary update sequence element #0 has length 8; 2 is required"
     ]
    }
   ],
   "source": [
    "def huy(list1, namein):\n",
    "    counter = 0\n",
    "    for name in list1:\n",
    "        if name == namein:\n",
    "            counter+=1\n",
    "    return namein, counter\n",
    "\n",
    "\n",
    "list2= {}\n",
    "\n",
    "for names in set_lst1:\n",
    "    list2.update(huy(lst1, names))\n",
    "    \n",
    "print(list2)"
   ]
  }
 ],
 "metadata": {
  "kernelspec": {
   "display_name": "Python 3",
   "language": "python",
   "name": "python3"
  },
  "language_info": {
   "codemirror_mode": {
    "name": "ipython",
    "version": 3
   },
   "file_extension": ".py",
   "mimetype": "text/x-python",
   "name": "python",
   "nbconvert_exporter": "python",
   "pygments_lexer": "ipython3",
   "version": "3.7.6"
  }
 },
 "nbformat": 4,
 "nbformat_minor": 4
}
