{
 "cells": [
  {
   "cell_type": "markdown",
   "metadata": {},
   "source": [
    "## Синтез оптимальных (по Чебышеву) КИХ-фильтров с использованием MATLAB"
   ]
  },
  {
   "cell_type": "code",
   "execution_count": 1,
   "metadata": {},
   "outputs": [],
   "source": [
    "pkg load signal"
   ]
  },
  {
   "cell_type": "code",
   "execution_count": 2,
   "metadata": {},
   "outputs": [
    {
     "name": "stdout",
     "output_type": "stream",
     "text": [
      "d1 =  0.022763\n",
      "d2 =  0.0010000\n"
     ]
    }
   ],
   "source": [
    "Fs=16000;         \n",
    "ft=4000; \n",
    "fk=3000; \n",
    "f =[fk ft];\n",
    "m =[0, 1];\n",
    "rp= 0.2;\n",
    "rs= 60;\n",
    "d2 = 10^(rs/-20);\n",
    "d1 =1 -  10^(rp/-20);\n",
    "ripple=[d1 d2];\n",
    "d1\n",
    "d2"
   ]
  },
  {
   "cell_type": "code",
   "execution_count": 3,
   "metadata": {},
   "outputs": [
    {
     "name": "stdout",
     "output_type": "stream",
     "text": [
      "\"perl\"   ७  譥\n",
      ", ᯮ塞 ணࠬ   䠩.\n",
      "error: 'firpmord' undefined near line 1 column 20\n",
      "error: 'R' undefined near line 1 column 21\n",
      "error: 'err' undefined near line 1 column 1\n"
     ]
    }
   ],
   "source": [
    "[R,f0,m0,weight] = firpmord(f,m,ripple,Fs);\n",
    "[b,err,opt] = firpm(R,f0,m0,weight);\n",
    "err"
   ]
  },
  {
   "cell_type": "code",
   "execution_count": null,
   "metadata": {},
   "outputs": [],
   "source": []
  }
 ],
 "metadata": {
  "kernelspec": {
   "display_name": "Octave",
   "language": "octave",
   "name": "octave"
  },
  "language_info": {
   "file_extension": ".m",
   "help_links": [
    {
     "text": "GNU Octave",
     "url": "https://www.gnu.org/software/octave/support.html"
    },
    {
     "text": "Octave Kernel",
     "url": "https://github.com/Calysto/octave_kernel"
    },
    {
     "text": "MetaKernel Magics",
     "url": "https://metakernel.readthedocs.io/en/latest/source/README.html"
    }
   ],
   "mimetype": "text/x-octave",
   "name": "octave",
   "version": "5.1.0"
  }
 },
 "nbformat": 4,
 "nbformat_minor": 2
}
