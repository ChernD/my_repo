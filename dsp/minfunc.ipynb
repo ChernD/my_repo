{
 "cells": [
  {
   "cell_type": "code",
   "execution_count": 3,
   "metadata": {},
   "outputs": [],
   "source": [
    "import numpy as np"
   ]
  },
  {
   "cell_type": "code",
   "execution_count": 7,
   "metadata": {},
   "outputs": [
    {
     "name": "stdout",
     "output_type": "stream",
     "text": [
      "1\n",
      "2\n",
      "min x =  1.001974609375\n",
      "min y =  2.0138691162349254\n"
     ]
    }
   ],
   "source": [
    "eps = 0.002\n",
    "delta = eps\n",
    "a, b = int(input()), int(input())\n",
    "while (b - a)/2 >= eps:\n",
    "    # Ищем иксы\n",
    "    x1 = np.float64((a + b - delta)/2)\n",
    "    x2 = np.float64((a + b + delta)/2)\n",
    "    \n",
    "    # Ищем f(x)\n",
    "    y1 = 2 * (x1**4) - x1 + 1\n",
    "    y2 = 2 * (x2**4) - x2 + 1\n",
    "    \n",
    "    # Отрезаем половину\n",
    "    if y1 < y2:\n",
    "        b = x2\n",
    "    else:\n",
    "        a = x1\n",
    "x_min = (a + b) / 2\n",
    "y_min = 2 * x_min ** 4 - x_min + 1\n",
    "print('min x = ', x_min)\n",
    "print('min y = ', y_min)"
   ]
  },
  {
   "cell_type": "code",
   "execution_count": null,
   "metadata": {},
   "outputs": [],
   "source": [
    "eps = 0.002\n",
    "delta = eps\n",
    "a, b = int(input()), int(input())\n",
    "while "
   ]
  }
 ],
 "metadata": {
  "kernelspec": {
   "display_name": "Python 3",
   "language": "python",
   "name": "python3"
  },
  "language_info": {
   "codemirror_mode": {
    "name": "ipython",
    "version": 3
   },
   "file_extension": ".py",
   "mimetype": "text/x-python",
   "name": "python",
   "nbconvert_exporter": "python",
   "pygments_lexer": "ipython3",
   "version": "3.7.6"
  }
 },
 "nbformat": 4,
 "nbformat_minor": 4
}
